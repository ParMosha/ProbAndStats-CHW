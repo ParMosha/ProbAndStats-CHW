{
 "cells": [
  {
   "cell_type": "markdown",
   "metadata": {},
   "source": [
    "# __CHW3__\n",
    "### <span style=\"color:purple;\"> __StudentID:__</span> (enter your student ID here)\n",
    "---"
   ]
  },
  {
   "cell_type": "code",
   "execution_count": null,
   "metadata": {},
   "outputs": [],
   "source": [
    "# Run the following code to import the necessary libraries\n",
    "import numpy as np\n",
    "import matplotlib.pyplot as plt"
   ]
  },
  {
   "cell_type": "markdown",
   "metadata": {},
   "source": [
    "#### <span style=\"color: #2791E8;\"> Theorical Question 1 :</span>\n",
    "\n",
    "---\n",
    "Two parents are planning to have a baby, the probability of the child being a boy is 1/2. If the baby is a boy there is a 0.05 chance that they give it a gender nuetral first name and a 0.1 chance they give it a gender nuetral middle name otherwise they gives it a boys name for first or middle name. If the baby is a girl there is a 0.15 chance that they give it a gender nuetral first name and a 0.05 chance they give it a gender nuetral middle name otherwise they gives it a girls name for first or middle name. If the fist name or middle name in gendered other people can tell if the baby is a boy or a girl.\n",
    "\n",
    "What if is the probability that others can tell the babies gender among hearing its name.\n",
    "\n",
    "---\n",
    "\n",
    "\n",
    "\n"
   ]
  },
  {
   "cell_type": "markdown",
   "metadata": {},
   "source": [
    "#### <span style=\"color: #27E860;\"> Applied Question 1 :</span>\n",
    "\n",
    "---\n",
    "Write a Class `baby` which contains parameters `gender`, `name_gender` and gives them values based on the above probibality apon generation.\n",
    "\n",
    "Write a function `hearName` which returns if others can tell the babies gender among hearing its name.\n",
    "\n",
    "Simulate 1000 babies and compare their names with their genders and print the probability calculated in the throrical task.\n",
    "\n",
    "Now suppose the probility of the name being gender nuetral for boys changed to $p$ whilst everything else remain the same.\n",
    "\n",
    "Plot the probability that others can tell the babies gender among hearing its name againts $p$ for $p=[0.05,0.10,...,0.95]$\n",
    "\n",
    "---\n",
    "\n",
    "\n",
    "\n"
   ]
  }
 ],
 "metadata": {
  "language_info": {
   "name": "python"
  }
 },
 "nbformat": 4,
 "nbformat_minor": 2
}
