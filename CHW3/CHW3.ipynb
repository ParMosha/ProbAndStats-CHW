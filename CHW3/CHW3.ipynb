{
 "cells": [
  {
   "cell_type": "markdown",
   "metadata": {},
   "source": [
    "# __CHW3__\n",
    "### <span style=\"color:purple;\"> __StudentID:__</span> (enter your student ID here)\n",
    "---"
   ]
  },
  {
   "cell_type": "markdown",
   "metadata": {},
   "source": [
    "Please save all the files including the notebook file and other files as `Prob&Stats_CHW3_STUDENTNUMBER.zip` and complete the following sections as described in the `CHW3.ipynb` notebook.<br>\n",
    "Blue sections are <span style=\"color: #2791E8;\">Theorical Questions</span> that need to be answerd in markdowns or in a seperated pdf file and Green sections are <span style=\"color: #27E860;\"> Applied Questions</span> that need to be simulated based on the given description.<br>\n",
    "The GitHub link for the class is [here](https://github.com/ParMosha/ProbAndStats-CHW)."
   ]
  },
  {
   "cell_type": "code",
   "execution_count": null,
   "metadata": {},
   "outputs": [],
   "source": [
    "# Run the following code to import the necessary libraries\n",
    "import numpy as np\n",
    "import matplotlib.pyplot as plt"
   ]
  },
  {
   "cell_type": "markdown",
   "metadata": {},
   "source": [
    "#### <span style=\"color: #2791E8;\"> Theorical Question 1 :</span>\n",
    "\n",
    "---\n",
    "You have participated in a game where there are three doors in front of you. Behind one of the doors is a prize, and behind the other two are goats. \n",
    "First, you choose a door. In this game, one door will be opened, revealing what's behind it. The amount you can see behind the door gives you an idea of what's behind it. \n",
    "For example, if the door you choose reveals an empty space, you will win a prize. (Do you want to stay with your first choice, or change it?) If the first door opened reveals a goat, the game will give you another choice. What is the probability that the first choice was wrong? \n",
    "\n",
    "Now, consider the situation where the system doesn't let you choose again. How would this problem change if the system made it impossible for you to make a second choice?\n",
    "\n",
    "---\n",
    "\n",
    "\n",
    "\n"
   ]
  },
  {
   "cell_type": "markdown",
   "metadata": {},
   "source": [
    "#### <span style=\"color: #27E860;\"> Applied Question 1 :</span>\n",
    "\n",
    "---\n",
    "Write a function `simulate_prizedoor` that simulates the location of the prize in Monty Hall. This function should randomly return 0, 1, or 2.\n",
    "\n",
    "Now, write a function `simulate_guess` that simulates the contestant's guesses for the door. This function should randomly return 0, 1, or 2.\n",
    "\n",
    "Next, write a function `goat_door` that simulates the location of the goat behind a door that Monty Hall opens. In this function, make sure that Monty Hall cannot randomly open the door that the contestant has chosen or the door that has the prize. You can simulate the location of the goat behind a door by randomly returning 0, 1, or 2.\n",
    "\n",
    "Next, write a function `switch_guess` that simulates the strategy of the contestant changing their door after Monty Hall opens one goat door. The function should take the guess and the goat door as arguments and return the remaining door.\n",
    "\n",
    "Write a function `win_percentage` that takes a strategy as an argument and simulates the game 10000 times. The function should return the percentage of wins by the contestant.\n",
    "\n",
    "Now print the winning percentage if the contestant switches the door after Monty Hall opens a goat door.\n",
    "\n",
    "\n",
    "---\n",
    "\n",
    "\n",
    "\n"
   ]
  },
  {
   "cell_type": "code",
   "execution_count": null,
   "metadata": {},
   "outputs": [],
   "source": [
    "def simulate_prizedoor(nsim):\n",
    "    # Generate the prize door for each simulation\n",
    "    # Write your code here\n",
    "\n",
    "\n",
    "\n",
    "    return pdoor\n",
    "\n",
    "\n",
    "\n",
    "def simulate_guess(nsim):\n",
    "    # Generate the guess for each simulation\n",
    "    # Write your code here\n",
    "\n",
    "\n",
    "\n",
    "    return guess\n",
    "\n",
    "def goat_door(prizedoors, guesses):\n",
    "    # Determine the goat door for each simulation\n",
    "    # Write your code here\n",
    "\n",
    "\n",
    "\n",
    "    return goat\n",
    "\n",
    "def switch_guess(guesses, goatdoors):\n",
    "    # Determine the new door after switching the guess\n",
    "    # Write your code here\n",
    "\n",
    "\n",
    "\n",
    "    return new_guess\n",
    "\n",
    "def win_percentage(guesses, prizedoors):\n",
    "    # Calculate the percentage of wins\n",
    "    # Write your code here\n",
    "\n",
    "\n",
    "\n",
    "    return perc"
   ]
  },
  {
   "cell_type": "code",
   "execution_count": 1,
   "metadata": {},
   "outputs": [],
   "source": [
    "# Test your function by plotting the result and printing the wanted values\n",
    "\n",
    "# Write your code here\n",
    "#------------------------------------------------------------\n",
    "\n",
    "\n",
    "\n",
    "\n",
    "\n",
    "\n",
    "\n",
    "\n",
    "\n",
    "\n",
    "\n",
    "\n",
    "\n",
    "\n",
    "#------------------------------------------------------------"
   ]
  },
  {
   "cell_type": "markdown",
   "metadata": {},
   "source": [
    "#### <span style=\"color: #27E860;\"> Applied Question 2 :</span>\n",
    "\n",
    "---\n",
    "\n",
    "\n",
    "\n",
    "1. The random variables $ U_1 $ and $ U_2 $ are independently and uniformly distributed on the interval $ (0, 1) $. Generate 5000 samples from each of these random variables.\n",
    "\n",
    "2. Now define the random variables $ X $ and $ Y $ as follows:\n",
    "\n",
    "$$\n",
    "X = \\sqrt{-2 \\ln U_1} \\cos(2\\pi U_2)\n",
    "$$\n",
    "$$\n",
    "Y = \\sqrt{-2 \\ln U_1} \\sin(2\\pi U_2)\n",
    "$$\n",
    "\n",
    "Plot the histogram of these two random variables and then display their joint distribution using appropriate contour plots.\n",
    "\n",
    "3. Investigate the joint correlation between $ X $ and $ Y $. (Explain whether the correlation is positive, negative, or zero. Are the variables $ X $ and $ Y $ independent? Use LOTUS (Law of the Unconscious Statistician) to derive the mean and variance of the random variables $ X $ and $ Y $.)\n",
    "\n",
    "4. Generate 5000 samples from the Gaussian random variable $ Z $ with the same mean and variance as the random variable \\( X \\). Then, compare the probability density functions of the random variables $ X $ $ Y $ and $ Z $ What conclusions can you draw?\n",
    "\n",
    "5. Consider the random variable $ R = X + Y^2 $. Derive the mean and variance of $ R $, and then display its joint distribution with $ X $ and $ Y $ using appropriate plots.\n",
    "\n",
    "6. Investigate the correlation between $ R $ and $ X $. (Explain whether the correlation is positive, negative, or zero. Are the variables $ R $ and $ X $ independent?)\n",
    "\n",
    "\n",
    "\n",
    "---\n",
    "\n",
    "\n",
    "\n"
   ]
  },
  {
   "cell_type": "code",
   "execution_count": 2,
   "metadata": {},
   "outputs": [],
   "source": [
    "# Test your function by plotting the result and printing the wanted values\n",
    "\n",
    "# Write your code here\n",
    "#------------------------------------------------------------\n",
    "\n",
    "\n",
    "\n",
    "\n",
    "\n",
    "\n",
    "\n",
    "\n",
    "\n",
    "\n",
    "\n",
    "\n",
    "\n",
    "\n",
    "#------------------------------------------------------------"
   ]
  }
 ],
 "metadata": {
  "kernelspec": {
   "display_name": "base",
   "language": "python",
   "name": "python3"
  },
  "language_info": {
   "codemirror_mode": {
    "name": "ipython",
    "version": 3
   },
   "file_extension": ".py",
   "mimetype": "text/x-python",
   "name": "python",
   "nbconvert_exporter": "python",
   "pygments_lexer": "ipython3",
   "version": "3.11.9"
  }
 },
 "nbformat": 4,
 "nbformat_minor": 2
}
