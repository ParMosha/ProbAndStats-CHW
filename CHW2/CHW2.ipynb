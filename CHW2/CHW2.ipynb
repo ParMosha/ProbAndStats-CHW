{
 "cells": [
  {
   "cell_type": "markdown",
   "metadata": {},
   "source": [
    "# __CHW2__\n",
    "### <span style=\"color:purple;\"> __StudentID:__</span> (enter your student ID here)\n",
    "---"
   ]
  },
  {
   "cell_type": "markdown",
   "metadata": {},
   "source": [
    "Please save all the files including the notebook file and other files as `Prob&Stats_CHW2_STUDENTNUMBER.zip` and complete the following sections as described in the `CHW2.ipynb` notebook.<br>\n",
    "Blue sections are <span style=\"color: #2791E8;\">Theorical Questions</span> that need to be answerd in markdowns or in a seperated pdf file and Green sections are <span style=\"color: #27E860;\"> Applied Questions</span> that need to be simulated based on the given description.<br>\n",
    "The GitHub link for the class is [here](https://github.com/ParMosha/ProbAndStats-CHW)."
   ]
  },
  {
   "cell_type": "code",
   "execution_count": 2,
   "metadata": {},
   "outputs": [],
   "source": [
    "# Run the following code to import the necessary libraries\n",
    "import numpy as np\n",
    "import matplotlib.pyplot as plt"
   ]
  },
  {
   "cell_type": "markdown",
   "metadata": {},
   "source": [
    "#### <span style=\"color: #2791E8;\"> Theorical Question 1 :</span>\n",
    "\n",
    "---\n",
    "Two parents are planning to have a baby, the probability of the child being a boy is 1/2. If the baby is a boy there is a 0.05 chance that they give it a gender nuetral first name and a 0.1 chance they give it a gender nuetral middle name otherwise they gives it a boys name for first or middle name. If the baby is a girl there is a 0.15 chance that they give it a gender nuetral first name and a 0.05 chance they give it a gender nuetral middle name otherwise they gives it a girls name for first or middle name. If the fist name or middle name in gendered other people can tell if the baby is a boy or a girl.\n",
    "\n",
    "What if is the probability that others can tell the babies gender among hearing its name.\n",
    "\n",
    "---\n",
    "\n",
    "\n",
    "\n"
   ]
  },
  {
   "cell_type": "markdown",
   "metadata": {},
   "source": [
    "#### <span style=\"color: #27E860;\"> Applied Question 1 :</span>\n",
    "\n",
    "---\n",
    "Write a Class `baby` which contains parameters `gender`, `name_gender` and gives them values based on the above probibality apon generation.\n",
    "\n",
    "Write a function `hearName` which returns if others can tell the babies gender among hearing its name.\n",
    "\n",
    "Simulate 1000 babies and compare their names with their genders and print the probability calculated in the throrical task.\n",
    "\n",
    "Now suppose the probility of the name being gender nuetral for boys changed to $p$ whilst everything else remain the same.\n",
    "\n",
    "Plot the probability that others can tell the babies gender among hearing its name againts $p$ for $p=[0.05,0.10,...,0.95]$\n",
    "\n",
    "---\n",
    "\n",
    "\n",
    "\n"
   ]
  },
  {
   "cell_type": "code",
   "execution_count": 3,
   "metadata": {},
   "outputs": [],
   "source": [
    "class baby:\n",
    "    def __init__(self):\n",
    "        # Write your code here\n",
    "        gender=0\n",
    "        name_gender=0\n",
    "\n",
    "    \n",
    "    def hearname(self):\n",
    "        # Write your code here\n",
    "\n",
    "\n",
    "\n",
    "        return genderCanBeTold\n",
    "    "
   ]
  },
  {
   "cell_type": "code",
   "execution_count": 4,
   "metadata": {},
   "outputs": [],
   "source": [
    "# Test your function by plotting the result and printing the wanted values\n",
    "\n",
    "# Write your code here\n",
    "#------------------------------------------------------------\n",
    "\n",
    "\n",
    "\n",
    "\n",
    "\n",
    "\n",
    "\n",
    "\n",
    "\n",
    "\n",
    "\n",
    "\n",
    "# End of code\n",
    "#------------------------------------------------------------"
   ]
  },
  {
   "cell_type": "markdown",
   "metadata": {},
   "source": [
    "#### <span style=\"color: #2791E8;\"> Theorical Question 2 :</span>\n",
    "\n",
    "---\n",
    "Suppose that 𝑛 independent trials are performed, with trial 𝑖 being a success with probability $\\frac{1}{2i+1}$. Let $P_n$ denote the probability that the total number of successes that result is an odd number.\n",
    "\n",
    "Find $P_n$ for $n =1, 2, 3, 4, 5$.\n",
    "\n",
    "Conjecture a general formula for $P_n$ .\n",
    "\n",
    "Derive a formula for $P_n$ in terms of $P_{n-1}$ .\n",
    "\n",
    "---\n",
    "\n",
    "\n",
    "\n"
   ]
  },
  {
   "cell_type": "markdown",
   "metadata": {},
   "source": [
    "#### <span style=\"color: #27E860;\"> Applied Question 2 :</span>\n",
    "\n",
    "---\n",
    "Write a function `trials(n)` that returns a n sized list that simulates the above trials for each $i$ and puts the result as 0s or 1s in the ith position in the list.\n",
    "\n",
    "Now simulate and print $P_n$ by running `trials(n)` 1000 times and calculating the probability for $n=[1,2,3,4,5,8,13,18,23,28,33,38,43]$ and then plot it againts $n$ and verify your theorical answer.\n",
    "\n",
    "---\n",
    "\n",
    "\n",
    "\n"
   ]
  },
  {
   "cell_type": "code",
   "execution_count": 5,
   "metadata": {},
   "outputs": [],
   "source": [
    "def trials(n):\n",
    "    # Write your code here\n",
    "\n",
    "\n",
    "\n",
    "\n",
    "\n",
    "\n",
    "    return trial\n"
   ]
  },
  {
   "cell_type": "code",
   "execution_count": 6,
   "metadata": {},
   "outputs": [],
   "source": [
    "# Test your function by plotting the result and printing the wanted values\n",
    "\n",
    "# Write your code here\n",
    "#------------------------------------------------------------\n",
    "\n",
    "\n",
    "\n",
    "\n",
    "\n",
    "\n",
    "\n",
    "\n",
    "\n",
    "\n",
    "\n",
    "\n",
    "# End of code\n",
    "#------------------------------------------------------------"
   ]
  },
  {
   "cell_type": "markdown",
   "metadata": {},
   "source": [
    "#### <span style=\"color: #2791E8;\"> Theorical Question 3 :</span>\n",
    "\n",
    "---\n",
    "A standard Cauchy random variable has density function $\\frac{1}{\\pi (1+x^2)}$ for $ - \\infty < x < \\infty $.\n",
    "\n",
    "Show that if $X$ is a standard Cauchy random variable, then $1/X$ is also a standard Cauchy random variable.\n",
    "\n",
    "---\n",
    "\n",
    "\n",
    "\n"
   ]
  },
  {
   "cell_type": "markdown",
   "metadata": {},
   "source": [
    "#### <span style=\"color: #27E860;\"> Applied Question 3 :</span>\n",
    "\n",
    "---\n",
    "Plot the `cauchy` function from range -5 to 5 .\n",
    "\n",
    "Write a function `inverseCauchy` that returns the inverse of the `cauchy` function rounded to the nearest integer . \n",
    "\n",
    "then for run the function 10000 times and plot the times each value is given.\n",
    "\n",
    "---\n",
    "\n",
    "\n",
    "\n"
   ]
  },
  {
   "cell_type": "code",
   "execution_count": 25,
   "metadata": {},
   "outputs": [],
   "source": [
    "def cauchy():\n",
    "   return np.random.standard_cauchy()\n",
    "\n",
    "def invcauchy(x):\n",
    "    # Write your code here\n",
    "\n",
    "\n",
    "\n",
    "\n",
    "\n",
    "    return inverse"
   ]
  },
  {
   "cell_type": "code",
   "execution_count": 36,
   "metadata": {},
   "outputs": [],
   "source": [
    "# Test your function by plotting the result and printing the wanted values\n",
    "\n",
    "# Write your code here\n",
    "#------------------------------------------------------------\n",
    "\n",
    "\n",
    "\n",
    "\n",
    "\n",
    "\n",
    "\n",
    "\n",
    "\n",
    "\n",
    "\n",
    "\n",
    "\n",
    "#------------------------------------------------------------"
   ]
  }
 ],
 "metadata": {
  "kernelspec": {
   "display_name": "base",
   "language": "python",
   "name": "python3"
  },
  "language_info": {
   "codemirror_mode": {
    "name": "ipython",
    "version": 3
   },
   "file_extension": ".py",
   "mimetype": "text/x-python",
   "name": "python",
   "nbconvert_exporter": "python",
   "pygments_lexer": "ipython3",
   "version": "3.11.9"
  }
 },
 "nbformat": 4,
 "nbformat_minor": 2
}
