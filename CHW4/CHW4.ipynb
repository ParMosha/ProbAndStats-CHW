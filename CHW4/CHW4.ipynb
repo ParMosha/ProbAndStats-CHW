{
 "cells": [
  {
   "cell_type": "markdown",
   "metadata": {},
   "source": [
    "# __CHW4__\n",
    "### <span style=\"color:purple;\"> __StudentID:__</span> (enter your student ID here)\n",
    "---"
   ]
  },
  {
   "cell_type": "markdown",
   "metadata": {},
   "source": [
    "Please save all the files including the notebook file and other files as `Prob&Stats_CHW4_STUDENTNUMBER.zip` and complete the following sections as described in the `CHW4.ipynb` notebook.<br>\n",
    "Blue sections are <span style=\"color: #2791E8;\">Theorical Questions</span> that need to be answerd in markdowns or in a seperated pdf file and Green sections are <span style=\"color: #27E860;\"> Applied Questions</span> that need to be simulated based on the given description.<br>\n",
    "The GitHub link for the class is [here](https://github.com/ParMosha/ProbAndStats-CHW)."
   ]
  },
  {
   "cell_type": "code",
   "execution_count": 3,
   "metadata": {},
   "outputs": [],
   "source": [
    "# Run the following code to import the necessary libraries\n",
    "import numpy as np\n",
    "import pandas as pd\n",
    "import matplotlib.pyplot as plt"
   ]
  },
  {
   "cell_type": "markdown",
   "metadata": {},
   "source": [
    "#### <span style=\"color: #27E860;\"> Applied Question 1 :</span>\n",
    "\n",
    "---\n",
    "\n",
    "Consider a random variable \\( S_N \\) which is the sum of \\( N \\) independent and identically distributed (i.i.d.) random variables:\n",
    "\n",
    "$$\n",
    "S_N = X_1 + X_2 + \\cdots + X_N\n",
    "$$\n",
    "\n",
    "\n",
    "Write a function `uniformsum(n,N,min = -1,max = 1)` that generates the mentioned random variable. The output of this function is the sum $ N $ of random numbers each uniformly distributed. ($ n = 1, 5, 10, 100,\\ N = 1000 $)\n",
    "    \n",
    " Calculate the mean and variance sequentially. Plot the graph of $ \\text{RMS} = \\sqrt{\\text{MSE}} $ for the corresponding Gaussian distribution.\n",
    "    \n",
    "Plot the $ \\text{RMS} $ graph for different values of $ N $. ($ n = 1, n = 10, n = 100, n = 500 $)\n",
    "    \n",
    " Use the Box-Muller transform method to generate a Gaussian random variable. Then, compare the output with the uniform sum. Register the required time for both methods. Analyze which method is faster in terms of time. For which value of $ N $ does it reach sufficient accuracy? Explain which parts are related to the Law of Large Numbers.\n",
    "\n",
    "\n",
    "---\n",
    "\n",
    "\n",
    "\n"
   ]
  },
  {
   "cell_type": "code",
   "execution_count": null,
   "metadata": {},
   "outputs": [],
   "source": [
    "def uniformsum(n,N,min=-1,max=1):\n",
    "    # Generate N samples of n uniform random variables in the range [min,max]\n",
    "    # Return the sum of each sample\n",
    "    # Write your code here\n",
    "    \n",
    "\n",
    "\n",
    "\n",
    "\n",
    "\n",
    "\n",
    "    return sum"
   ]
  },
  {
   "cell_type": "code",
   "execution_count": null,
   "metadata": {},
   "outputs": [],
   "source": [
    "# Test your function by plotting the result and printing the wanted values\n",
    "\n",
    "# Write your code here\n",
    "#------------------------------------------------------------\n",
    "\n",
    "\n",
    "\n",
    "\n",
    "\n",
    "\n",
    "\n",
    "\n",
    "\n",
    "\n",
    "\n",
    "\n",
    "\n",
    "\n",
    "#------------------------------------------------------------"
   ]
  },
  {
   "cell_type": "markdown",
   "metadata": {},
   "source": [
    "#### <span style=\"color: #27E860;\"> Applied Question 2 :</span>\n",
    "\n",
    "---\n",
    "\n",
    "\n",
    "Imagine an online game where players compete in various challenges to earn points and advance in a leaderboard. As an analyst for this online platform, your task is to analyze and examine the score distribution of several players. The goal is to identify the most suitable statistical distribution for modeling the scoring system and make informed predictions about player performance.\n",
    "\n",
    "First, load the dataset containing player scores and plot the score distribution using a histogram. Then, calculate descriptive statistics such as the mean, median, mode, variance, and standard deviation.\n",
    "\n",
    "Based on the histogram and descriptive statistics, identify the distribution(s) that best match the score distribution:\n",
    "\n",
    "- **Normal Distribution**: A continuous distribution with a symmetric, bell-shaped curve.\n",
    "- **Uniform Distribution**: A distribution where every value within a certain range is equally likely.\n",
    "- **Binomial Distribution**: The number of successes in a fixed number of independent trials, with a constant probability of success.\n",
    "- **Poisson Distribution**: The number of events that occur in a fixed interval of time or space.\n",
    "\n",
    "Select the distribution with the highest \\( p \\)-value (indicating the best fit).\n",
    "\n",
    "Use the appropriate distribution to generate synthetic data that simulates the real score distribution of the players. Then, compare the synthetic data with the actual data to validate the accuracy of the distribution.\n",
    "\n",
    "Finally, use the distribution to calculate various probability ranges, such as the likelihood of achieving a score above 90\\%. Use these insights to optimize the scoring system and improve player engagement by providing recommendations to the game developers.\n",
    "\n",
    "\n",
    "---\n",
    "\n",
    "\n",
    "\n"
   ]
  },
  {
   "cell_type": "code",
   "execution_count": null,
   "metadata": {},
   "outputs": [],
   "source": [
    "data=pd.read_csv('gamer_scores.csv')"
   ]
  },
  {
   "cell_type": "code",
   "execution_count": null,
   "metadata": {},
   "outputs": [],
   "source": [
    "# Test your function by plotting the result and printing the wanted values\n",
    "\n",
    "# Write your code here\n",
    "#------------------------------------------------------------\n",
    "\n",
    "\n",
    "\n",
    "\n",
    "\n",
    "\n",
    "\n",
    "\n",
    "\n",
    "\n",
    "\n",
    "\n",
    "\n",
    "\n",
    "\n",
    "#------------------------------------------------------------"
   ]
  }
 ],
 "metadata": {
  "kernelspec": {
   "display_name": "base",
   "language": "python",
   "name": "python3"
  },
  "language_info": {
   "codemirror_mode": {
    "name": "ipython",
    "version": 3
   },
   "file_extension": ".py",
   "mimetype": "text/x-python",
   "name": "python",
   "nbconvert_exporter": "python",
   "pygments_lexer": "ipython3",
   "version": "3.11.9"
  }
 },
 "nbformat": 4,
 "nbformat_minor": 2
}
